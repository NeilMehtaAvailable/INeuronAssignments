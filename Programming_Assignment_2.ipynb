{
 "cells": [
  {
   "cell_type": "code",
   "execution_count": null,
   "id": "197003c7",
   "metadata": {},
   "outputs": [],
   "source": [
    "##Write a Python program to convert kilometers to miles?\n",
    "kms = int(input(\"Enter the number of kilometers to be converted to miles: \"))\n",
    "print(kms, \"kms are \", kms * 0.621371, \"miles\")"
   ]
  },
  {
   "cell_type": "code",
   "execution_count": null,
   "id": "418adce6",
   "metadata": {},
   "outputs": [],
   "source": [
    "##Write a Python program to convert Celsius to Fahrenheit?\n",
    "cel = int(input(\"Enter the Celsius: \"))\n",
    "print(\"The equivalent Farenheit: \", (cel*9/5) + 32)"
   ]
  },
  {
   "cell_type": "code",
   "execution_count": null,
   "id": "97b261b8",
   "metadata": {},
   "outputs": [],
   "source": [
    "##Write a Python program to display calendar?\n",
    "import calendar\n",
    "y = int(input(\"Enter the year whose months and dates you want to see: \"))\n",
    "for i in range(1,13):\n",
    "    print(calendar.month(y,i))"
   ]
  },
  {
   "cell_type": "code",
   "execution_count": null,
   "id": "88c28260",
   "metadata": {},
   "outputs": [],
   "source": [
    "##Write a Python program to solve quadratic equation?\n",
    "import cmath\n",
    "from math import sqrt\n",
    "print(\"In the quadratic equation ax^2 + bx + c = 0, soslving for x:\")\n",
    "a = int(input(\"Enter the value for 'a' : \"))\n",
    "b = int(input(\"Enter the value for 'b' : \"))\n",
    "c = int(input(\"Enter the value for 'c' : \"))\n",
    "x1 = (-b + cmath.sqrt((b**2) - 4 * a * c)) / (2 * a)\n",
    "x2 = (-b - cmath.sqrt((b**2) - 4 * a * c)) / (2 * a)\n",
    "print(\"The solutions for x are : \", x1, \" and \", x2)"
   ]
  },
  {
   "cell_type": "code",
   "execution_count": null,
   "id": "f8095869",
   "metadata": {},
   "outputs": [],
   "source": [
    "##Write a Python program to swap two variables without temp variable?\n",
    "l = input(\"Enter variable 1: \")\n",
    "m = input(\"Enter variable 2: \")\n",
    "l,m = m,l\n",
    "print(\"After swapping variables without using 3rd varible, variable 1:\", l, \" and variable 2: \",m)"
   ]
  }
 ],
 "metadata": {
  "kernelspec": {
   "display_name": "Python 3 (ipykernel)",
   "language": "python",
   "name": "python3"
  },
  "language_info": {
   "codemirror_mode": {
    "name": "ipython",
    "version": 3
   },
   "file_extension": ".py",
   "mimetype": "text/x-python",
   "name": "python",
   "nbconvert_exporter": "python",
   "pygments_lexer": "ipython3",
   "version": "3.9.13"
  }
 },
 "nbformat": 4,
 "nbformat_minor": 5
}
