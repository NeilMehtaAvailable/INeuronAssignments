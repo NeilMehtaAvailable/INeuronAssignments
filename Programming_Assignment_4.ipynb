{
 "cells": [
  {
   "cell_type": "code",
   "execution_count": null,
   "id": "3aefb305",
   "metadata": {},
   "outputs": [],
   "source": [
    "##Write a Python Program to Find the Factorial of a Number?\n",
    "infactnum = int(input(\"Enter a positive integer: \"))\n",
    "outfactnum = 1\n",
    "for i in range(infactnum, 0, -1):\n",
    "    outfactnum = i * outfactnum\n",
    "print(\"The factorial of\", infactnum, \"is\", outfactnum)"
   ]
  },
  {
   "cell_type": "code",
   "execution_count": null,
   "id": "7ec19b65",
   "metadata": {},
   "outputs": [],
   "source": [
    "##Write a Python Program to Display the multiplication Table?\n",
    "tableof = int(input(\"Multiplication table of? \"))\n",
    "tabletill = int(input(\"Multiplicaton table till? \"))\n",
    "for i in range(1, tabletill + 1):\n",
    "    print(tableof, \"*\", i, \"=\", tableof * i)"
   ]
  },
  {
   "cell_type": "code",
   "execution_count": null,
   "id": "16b3e509",
   "metadata": {},
   "outputs": [],
   "source": [
    "##Write a Python Program to Print the Fibonacci sequence?\n",
    "fibupperlimit = int(input(\"Enter upper limit of Fibonacci sequence: \"))\n",
    "v = 0\n",
    "v1 = 1\n",
    "newnum = 1\n",
    "print(\"The Fibonacci sequence is: \")\n",
    "while newnum <= fibupperlimit:\n",
    "    print(newnum, \",\")\n",
    "    newnum = v + v1\n",
    "    v = v1\n",
    "    v1 = newnum"
   ]
  },
  {
   "cell_type": "code",
   "execution_count": null,
   "id": "78c7fe2b",
   "metadata": {},
   "outputs": [],
   "source": [
    "##Write a Python Program to Check Armstrong Number?\n",
    "armnum = int(input(\"Enter a number to check whether its Armstrong number or not: \"))\n",
    "tempholder = armnum\n",
    "accumulator = 0\n",
    "while tempholder > 0:\n",
    "     lastlevelremainder = tempholder % 10\n",
    "     accumulator = accumulator + lastlevelremainder**3\n",
    "     tempholder = int(tempholder / 10)\n",
    "\n",
    "if accumulator == armnum:\n",
    "    print(armnum,\"is an Armstrong number\")\n",
    "else:\n",
    "    print(armnum, \"is not an Armstrong number\")"
   ]
  },
  {
   "cell_type": "code",
   "execution_count": null,
   "id": "cfb9d0ab",
   "metadata": {},
   "outputs": [],
   "source": [
    "##Write a Python Program to Find Armstrong Number in an Interval?\n",
    "armnum_lowerlimit = int(input(\"Enter the positive integer (>10) lower limit for search of Armstrong number: \"))\n",
    "armnum_upperlimit = int(input(\"Enter the positive integer (>10) upper limit for search of Armstrong number: \"))\n",
    "temp_value_holder2 = armnum_lowerlimit\n",
    "print(\"The Armstrong numbers in the range are:\")\n",
    "for temp_value_holder in range(armnum_lowerlimit, armnum_upperlimit + 1, 1):\n",
    "    temp_value_holder2 = temp_value_holder\n",
    "    summing = 0\n",
    "    power = 0\n",
    "    reminderlist = []\n",
    "    while temp_value_holder2 > 0:\n",
    "        power = power + 1\n",
    "        finallevelremainder = int(temp_value_holder2 % 10)\n",
    "        temp_value_holder2 = int(temp_value_holder2 / 10)\n",
    "        reminderlist.append(finallevelremainder)\n",
    "    for i in range(0, power):\n",
    "        summing = summing + reminderlist[i] ** power\n",
    "    if summing == temp_value_holder:\n",
    "        print(temp_value_holder)\n",
    "    else:\n",
    "        pass"
   ]
  },
  {
   "cell_type": "code",
   "execution_count": null,
   "id": "59420a6f",
   "metadata": {},
   "outputs": [],
   "source": [
    "##Write a Python Program to Find the Sum of Natural Numbers?\n",
    "lastnum = int(input(\"Enter the number till which you want to find the sum of Natural no.s: \"))\n",
    "sum = 0\n",
    "for p in range(lastnum + 1):\n",
    "    sum = sum + p\n",
    "print(\"The sum is: \",sum)"
   ]
  }
 ],
 "metadata": {
  "kernelspec": {
   "display_name": "Python 3 (ipykernel)",
   "language": "python",
   "name": "python3"
  },
  "language_info": {
   "codemirror_mode": {
    "name": "ipython",
    "version": 3
   },
   "file_extension": ".py",
   "mimetype": "text/x-python",
   "name": "python",
   "nbconvert_exporter": "python",
   "pygments_lexer": "ipython3",
   "version": "3.9.13"
  }
 },
 "nbformat": 4,
 "nbformat_minor": 5
}
