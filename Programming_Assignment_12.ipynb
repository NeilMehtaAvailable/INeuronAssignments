{
 "cells": [
  {
   "cell_type": "code",
   "execution_count": null,
   "id": "fd2256c2",
   "metadata": {},
   "outputs": [],
   "source": [
    "##Write a Python program to Extract Unique values dictionary values?\n",
    "inputvalue = input(\"Whose information would you like to  check? John, Mark Tom or Jeff: \")\n",
    "dict = {'Name': ['John', 'Mark', 'Tom', 'Jeff'], 'Age': [5, 10, 15, 20], 'Diet': ['American', 'Continental', 'Chinese', 'Indian'], 'Allergies': ['Nuts', 'Mushrooms', 'Pollen', 'Dairy']}\n",
    "if inputvalue in dict.get('Name'):\n",
    "    k = dict['Name'].index(inputvalue)\n",
    "    print(inputvalue, \"is of age\", dict['Age'][k], \"and eats\", dict['Diet'][k])\n",
    "else:\n",
    "    print(\"The person is not in the list\")"
   ]
  },
  {
   "cell_type": "code",
   "execution_count": null,
   "id": "a872d5d3",
   "metadata": {},
   "outputs": [],
   "source": [
    "##WWrite a Python program to find the sum of all items in a dictionary?\n",
    "Dict = {'Milk': 10, 'Ghee': 20, 'Wheat': 30, 'Rice': 50, 'Soap': 20}\n",
    "print(\"The sum of all products is \", sum(list(Dict.values())))"
   ]
  },
  {
   "cell_type": "code",
   "execution_count": null,
   "id": "d8b61174",
   "metadata": {},
   "outputs": [],
   "source": [
    "##Write a Python program to Merging two Dictionaries?\n",
    "dict1 = {'key1': 'value1', 'key2' : 'value2'}\n",
    "dict2 = {'key3' : 'value3', 'key4' : 'value4'}\n",
    "dict1.update(dict2)\n",
    "print(\"The merged dictionary is: \", dict1)"
   ]
  },
  {
   "cell_type": "code",
   "execution_count": null,
   "id": "fdebfa9e",
   "metadata": {},
   "outputs": [],
   "source": [
    "##Write a Python program to convert iey-values list to flat dictionary?\n",
    "mydict = {'a' : '1',\n",
    "        'b' : 2,\n",
    "        'c' : ['d', 4, {'e' : 5}],\n",
    "        'f' : {'g' : 6, 'i_2' : {'h' : 7, 'i' : 8}},\n",
    "        9 : 'j',\n",
    "        10 : 11,\n",
    "        12 : ['i', 13, {'l' : 14}],\n",
    "        ('m', 15, ('n', 16)) : 'o',\n",
    "        ('p', 17, ('q', 18)) : 19,\n",
    "        ('r', 20, ('s', 21)) : ['t', 22, {'u': 23}],\n",
    "        ('v', 24, ('w', 25)) : 'x',\n",
    "        ('y', 26, ('z', 27)) : 28,\n",
    "        ('a_2', 29, ('b_2', 30)) : ['c_2', 31, {'d_2' : 32}],\n",
    "        ('f_2', ('g_2' , ('h_2', 35))) : {'g_2' : 36, 99 : {'h_2' : 37, 103 : {'i_2' : 38, 100 : {'j_2' : 39}}}}}\n",
    "\n",
    "\n",
    "def flatten(inspectelement, editedelement=''):\n",
    "    if type(inspectelement) == dict:\n",
    "        if editedelement:\n",
    "            editedelement = editedelement + '.'\n",
    "        for i in inspectelement:\n",
    "            yield from flatten(inspectelement[i], editedelement + str(i))\n",
    "    else:\n",
    "        yield editedelement, inspectelement\n",
    "\n",
    "\n",
    "print(\"The new flat dictionary is: \", {inputkey : inputvalue for inputkey, inputvalue in flatten(mydict)})"
   ]
  },
  {
   "cell_type": "code",
   "execution_count": null,
   "id": "4567540a",
   "metadata": {},
   "outputs": [],
   "source": [
    "##Write a Python program to insertion at the beginning in OrderedDict?\n",
    "ordereddict = {'b' : 2, 'c' : 3, 'd' : 4}\n",
    "adddict = {'a' : 1}\n",
    "adddict.update(ordereddict)\n",
    "print(adddict)"
   ]
  },
  {
   "cell_type": "code",
   "execution_count": null,
   "id": "0384e6e9",
   "metadata": {},
   "outputs": [],
   "source": [
    "##Write a Python program to check order of character in string using OrderedDict()?\n",
    "from collections import OrderedDict\n",
    "inputstring = \"hello lets test\"\n",
    "newdict = OrderedDict()\n",
    "for i in range(0,int(len(inputstring))):\n",
    "    newdict[i] = inputstring[i]\n",
    "\n",
    "print(\"Indexed order of characters in string:\", newdict)"
   ]
  },
  {
   "cell_type": "code",
   "execution_count": null,
   "id": "1181d568",
   "metadata": {},
   "outputs": [],
   "source": [
    "##Write a Python program to sort Python Dictionaries by Key or Value?\n",
    "from collections import OrderedDict\n",
    "inputstring = \"hello lets test\"\n",
    "newdict = OrderedDict()\n",
    "newdict2 = OrderedDict()\n",
    "valuelist = []\n",
    "valuelistsorted = []\n",
    "\n",
    "\n",
    "for i in range(0,int(len(inputstring))):\n",
    "    newdict[i] = ord(inputstring[i])\n",
    "\n",
    "\n",
    "for j in newdict.values():\n",
    "    valuelist.append(j)\n",
    "\n",
    "\n",
    "valuelistsorted = sorted(valuelist)\n",
    "for k in range(0,int(len(inputstring))):\n",
    "    newdict2[k] = chr(valuelistsorted[k])\n",
    "\n",
    "\n",
    "print(\"Sorted order of characters in string:\", newdict2)"
   ]
  }
 ],
 "metadata": {
  "kernelspec": {
   "display_name": "Python 3 (ipykernel)",
   "language": "python",
   "name": "python3"
  },
  "language_info": {
   "codemirror_mode": {
    "name": "ipython",
    "version": 3
   },
   "file_extension": ".py",
   "mimetype": "text/x-python",
   "name": "python",
   "nbconvert_exporter": "python",
   "pygments_lexer": "ipython3",
   "version": "3.9.13"
  }
 },
 "nbformat": 4,
 "nbformat_minor": 5
}
