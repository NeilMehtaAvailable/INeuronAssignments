{
 "cells": [
  {
   "cell_type": "code",
   "execution_count": null,
   "id": "8687d07e",
   "metadata": {},
   "outputs": [],
   "source": [
    "##Write a Python Program to Check if a Number is Positive, Negative or Zero?\n",
    "provided = float(input(\"Enter a real number: \"))\n",
    "if provided == 0:\n",
    "    print(\"The given number is zero\")\n",
    "elif provided > 0:\n",
    "    print(\"The given number is positive\")\n",
    "else:\n",
    "    print(\"The given number is negative\")"
   ]
  },
  {
   "cell_type": "code",
   "execution_count": null,
   "id": "c039c001",
   "metadata": {},
   "outputs": [],
   "source": [
    "##Write a Python Program to Check if a Number is Odd or Even?\n",
    "eveodd = int(input(\"Enter an integer: \"))\n",
    "if eveodd % 2 == 0:\n",
    "    print(\"The given number is even\")\n",
    "else:\n",
    "    print(\"The given number is odd\")"
   ]
  },
  {
   "cell_type": "code",
   "execution_count": null,
   "id": "a142b594",
   "metadata": {},
   "outputs": [],
   "source": [
    "##Write a Python Program to Check Leap Year?\n",
    "leapyearcheck = int(input(\"Enter the year number: \"))\n",
    "if leapyearcheck % 4 == 0:\n",
    "    print(\"This is a leap year\")\n",
    "else:\n",
    "    print(\"This is not a leap year\")"
   ]
  },
  {
   "cell_type": "code",
   "execution_count": null,
   "id": "c3678646",
   "metadata": {},
   "outputs": [],
   "source": [
    "##Write a Python Program to Check Prime Number?\n",
    "#pip install sympy before running this program\n",
    "from sympy import isprime\n",
    "isitprime = int(input(\"Enter a real integer to check its prime or not: \"))\n",
    "if isprime(isitprime) is True:\n",
    "    print(\"That is a prime number\")\n",
    "else:\n",
    "    print(\"That is not a prime number\")"
   ]
  },
  {
   "cell_type": "code",
   "execution_count": null,
   "id": "fe086916",
   "metadata": {},
   "outputs": [],
   "source": [
    "##Write a Python Program to Print all Prime Numbers in an Interval of 1-10000?\n",
    "#pip install sympy before running this program\n",
    "from sympy import isprime\n",
    "upperlimit = 100000\n",
    "count = 0\n",
    "for i in range(1, upperlimit + 1):\n",
    "    if isprime(i) is True:\n",
    "        print(i,\" is a prime number\")\n",
    "        count = count + 1\n",
    "    else:\n",
    "        pass\n",
    "print(\"Between 1 and\", upperlimit, \"there are\", count, \"prime numbers\")"
   ]
  }
 ],
 "metadata": {
  "kernelspec": {
   "display_name": "Python 3 (ipykernel)",
   "language": "python",
   "name": "python3"
  },
  "language_info": {
   "codemirror_mode": {
    "name": "ipython",
    "version": 3
   },
   "file_extension": ".py",
   "mimetype": "text/x-python",
   "name": "python",
   "nbconvert_exporter": "python",
   "pygments_lexer": "ipython3",
   "version": "3.9.13"
  }
 },
 "nbformat": 4,
 "nbformat_minor": 5
}
