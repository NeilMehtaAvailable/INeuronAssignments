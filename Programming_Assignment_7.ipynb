{
 "cells": [
  {
   "cell_type": "code",
   "execution_count": null,
   "id": "83b1fba2",
   "metadata": {},
   "outputs": [],
   "source": [
    "##Write a Python Program to find sum of array?\n",
    "arrayinput = input(\"Enter Int or float elements seperated by commas: \")\n",
    "arrayinput = arrayinput.split(',')\n",
    "arrayinputnums = []\n",
    "i = 0\n",
    "for i in range(0, len(arrayinput)):\n",
    "    try:\n",
    "        arrayinputnums.append(float(arrayinput[i]))\n",
    "    except ValueError:\n",
    "        pass\n",
    "print(\"The sum of INT and FLOAT elements in the array is: \", sum(arrayinputnums))"
   ]
  },
  {
   "cell_type": "code",
   "execution_count": null,
   "id": "aa01ab71",
   "metadata": {},
   "outputs": [],
   "source": [
    "##Write a Python Program to find largest element in an array?\n",
    "arrayinput = input(\"Enter Int or float elements seperated by commas: \")\n",
    "arrayinput = arrayinput.split(',')\n",
    "arrayinputnums = []\n",
    "i = 0\n",
    "for i in range(0, len(arrayinput)):\n",
    "    try:\n",
    "        arrayinputnums.append(float(arrayinput[i]))\n",
    "    except ValueError:\n",
    "        pass\n",
    "print(\"The sum of INT and FLOAT elements in the array is: \", max(arrayinputnums))"
   ]
  },
  {
   "cell_type": "code",
   "execution_count": null,
   "id": "f5ef3144",
   "metadata": {},
   "outputs": [],
   "source": [
    "##Write a Python Program for array rotation?\n",
    "def ValueErrorcatch(msg):\n",
    "    while True:\n",
    "        try:\n",
    "            l = input(msg)\n",
    "            lint = int(l)\n",
    "            if lint > 0:\n",
    "                break\n",
    "            else:\n",
    "                print(\"Enter a Natural number only\")\n",
    "        except ValueError:\n",
    "             print(\"Enter INT values only\")\n",
    "    return lint\n",
    "\n",
    "arrayinput1 = input(\"Enter array elements seperated by commas: \")\n",
    "arrayinput1 = arrayinput1.split(',')\n",
    "arrayinput2 = ValueErrorcatch(\"Enter the value by which you want to rotate the array: \")\n",
    "arraytemp1 = list(arrayinput1[0 : arrayinput2])\n",
    "del arrayinput1[0 : arrayinput2]\n",
    "arrayoutput = arrayinput1 + arraytemp1\n",
    "print(\"The rotated array is: \", arrayoutput)"
   ]
  },
  {
   "cell_type": "code",
   "execution_count": null,
   "id": "2fe370a0",
   "metadata": {},
   "outputs": [],
   "source": [
    "##Write a Python Program to check if given array is Monotonic?\n",
    "def ValueErrorcatch(l):\n",
    "    while True:\n",
    "        try:\n",
    "            lfloat = float(l)\n",
    "            k = 0\n",
    "            break\n",
    "        except ValueError:\n",
    "            m = input(\"Numerical values only. Eliminate \", l, \"and enter a new element: \")\n",
    "            k = 1\n",
    "    return lfloat, k\n",
    "inputarray = input(\"Enter the INT OR FLOAT elements (seperated by commas) for which you want to check monotone or not: \")\n",
    "inputarray = list(inputarray.split(','))\n",
    "\n",
    "checkedinputarray = []\n",
    "for i in inputarray:\n",
    "    checkedvalue, iserror = ValueErrorcatch(i)\n",
    "\n",
    "    while iserror == 1:\n",
    "        inputarray2 = input(\"Numerical values only. Eliminate \", i, \"and enter a new element: \")\n",
    "        checkedvalue, iserror = ValueErrorcatch(i)\n",
    "\n",
    "    checkedinputarray.append(checkedvalue)\n",
    "\n",
    "j = 0\n",
    "mono = []\n",
    "for  j in range(0, int(len(checkedinputarray)) - 1):\n",
    "    if checkedinputarray[j] < checkedinputarray[j+1]:\n",
    "        mono.append(\"True\")\n",
    "    elif checkedinputarray[j] > checkedinputarray[j + 1]:\n",
    "        mono.append(\"False\")\n",
    "    elif checkedinputarray[j] == checkedinputarray[j + 1]:\n",
    "        mono.append(\"True\")\n",
    "\n",
    "if mono == \"True\":\n",
    "    print(\"The given array is Monotonic\")\n",
    "elif mono == \"False\":\n",
    "    print(\"The given array is Monotonic\")\n",
    "else:\n",
    "    print(\"The given array is not Monotonic\")"
   ]
  }
 ],
 "metadata": {
  "kernelspec": {
   "display_name": "Python 3 (ipykernel)",
   "language": "python",
   "name": "python3"
  },
  "language_info": {
   "codemirror_mode": {
    "name": "ipython",
    "version": 3
   },
   "file_extension": ".py",
   "mimetype": "text/x-python",
   "name": "python",
   "nbconvert_exporter": "python",
   "pygments_lexer": "ipython3",
   "version": "3.9.13"
  }
 },
 "nbformat": 4,
 "nbformat_minor": 5
}
