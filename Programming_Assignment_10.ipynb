{
 "cells": [
  {
   "cell_type": "code",
   "execution_count": null,
   "id": "242ebfb6",
   "metadata": {},
   "outputs": [],
   "source": [
    "##Write a Python program to find sum of elements in list?\n",
    "numofelements = int(input(\"Enter the number of elements: \"))\n",
    "inputlist = []\n",
    "for i in range(0,numofelements):\n",
    "    inputelement = int(input(\"Enter INT values which you want to add:\"))\n",
    "    inputlist.append(inputelement)\n",
    "\n",
    "print(\"The sum of elements in the list is: \", sum(inputlist))"
   ]
  },
  {
   "cell_type": "code",
   "execution_count": null,
   "id": "c6ccbfb7",
   "metadata": {},
   "outputs": [],
   "source": [
    "##Write a Python program to Multiply all numbers in the list?\n",
    "import numpy\n",
    "numofelements = int(input(\"Enter the number of elements: \"))\n",
    "inputlist = []\n",
    "for i in range(0,numofelements):\n",
    "    inputelement = int(input(\"Enter INT values which you want to multiply:\"))\n",
    "    inputlist.append(inputelement)\n",
    "\n",
    "print(\"The product of elements in the list is: \", numpy.prod(inputlist))"
   ]
  },
  {
   "cell_type": "code",
   "execution_count": null,
   "id": "fa1fc643",
   "metadata": {},
   "outputs": [],
   "source": [
    "##Write a Python program to find smallest number in a list?\n",
    "numofelements = int(input(\"Enter the number of elements: \"))\n",
    "inputlist = []\n",
    "for i in range(0,numofelements):\n",
    "    inputelement = int(input(\"Enter INT values out of which you want to find the smallest value:\"))\n",
    "    inputlist.append(inputelement)\n",
    "\n",
    "print(\"The smallest of all elements in the list is: \", min(inputlist))"
   ]
  },
  {
   "cell_type": "code",
   "execution_count": null,
   "id": "7ff632f2",
   "metadata": {},
   "outputs": [],
   "source": [
    "##Write a Python program to find largest number in a list?\n",
    "numofelements = int(input(\"Enter the number of elements: \"))\n",
    "inputlist = []\n",
    "for i in range(0,numofelements):\n",
    "    inputelement = int(input(\"Enter INT values out of which you want to find the largest value:\"))\n",
    "    inputlist.append(inputelement)\n",
    "\n",
    "print(\"The largest of all elements in the list is: \", max(inputlist))"
   ]
  },
  {
   "cell_type": "code",
   "execution_count": null,
   "id": "69a8f3f8",
   "metadata": {},
   "outputs": [],
   "source": [
    "##WWrite a Python program to find second largest number in a list?\n",
    "numofelements = int(input(\"Enter the number of elements: \"))\n",
    "inputlist = []\n",
    "for i in range(0,numofelements):\n",
    "    inputelement = int(input(\"Enter INT values out of which you want to find the second largest value:\"))\n",
    "    inputlist.append(inputelement)\n",
    "\n",
    "print(\"The second largest of all elements in the list is: \", sorted(list(set(inputlist)))[-2])"
   ]
  },
  {
   "cell_type": "code",
   "execution_count": null,
   "id": "48ed27bb",
   "metadata": {},
   "outputs": [],
   "source": [
    "##Write a Python program to find N largest elements from a list?\n",
    "numofelements = int(input(\"Enter the number of elements: \"))\n",
    "inputlist = []\n",
    "\n",
    "\n",
    "for i in range(0,numofelements):\n",
    "    inputelement = int(input(\"Enter INT values out of which you want to find the second largest value:\"))\n",
    "    inputlist.append(inputelement)\n",
    "\n",
    "\n",
    "SortedInputList = sorted(list(set(inputlist)))\n",
    "NLargestElements = int(input(\"Enter how  many largest elements you want from the list :\"))\n",
    "NewList = []\n",
    "\n",
    "\n",
    "for j in range(-NLargestElements, 0):\n",
    "    NewList.append(SortedInputList[j])\n",
    "\n",
    "\n",
    "print(\"The\", NLargestElements,\"largest of all elements in the list are: \", NewList)"
   ]
  },
  {
   "cell_type": "code",
   "execution_count": null,
   "id": "3f174345",
   "metadata": {},
   "outputs": [],
   "source": [
    "##Write a Python program to print even numbers in a list?\n",
    "numofelements = int(input(\"Enter the number of elements: \"))\n",
    "inputlist = []\n",
    "\n",
    "\n",
    "for i in range(0,numofelements):\n",
    "    inputelement = int(input(\"Enter INT values out of which you want to find the even value:\"))\n",
    "    inputlist.append(inputelement)\n",
    "\n",
    "\n",
    "SortedInputList = sorted(list(set(inputlist)))\n",
    "Newlist = []\n",
    "\n",
    "\n",
    "for j in SortedInputList:\n",
    "    if j % 2 == 0:\n",
    "        Newlist.append(j)\n",
    "\n",
    "\n",
    "print(\"The even elements in the list are: \", Newlist)"
   ]
  },
  {
   "cell_type": "code",
   "execution_count": null,
   "id": "57b4d8f3",
   "metadata": {},
   "outputs": [],
   "source": [
    "##Write a Python program to print odd numbers in a List?\n",
    "numofelements = int(input(\"Enter the number of elements: \"))\n",
    "inputlist = []\n",
    "\n",
    "\n",
    "for i in range(0,numofelements):\n",
    "    inputelement = int(input(\"Enter INT values out of which you want to find the even value:\"))\n",
    "    inputlist.append(inputelement)\n",
    "\n",
    "\n",
    "SortedInputList = sorted(list(set(inputlist)))\n",
    "Newlist = []\n",
    "\n",
    "\n",
    "for j in SortedInputList:\n",
    "    if j % 2 != 0:\n",
    "        Newlist.append(j)\n",
    "\n",
    "\n",
    "print(\"The odd elements in the list are: \", Newlist)"
   ]
  },
  {
   "cell_type": "code",
   "execution_count": null,
   "id": "563eb2ea",
   "metadata": {},
   "outputs": [],
   "source": [
    "##Write a Python program to Remove empty List from List?\n",
    "numofelements = int(input(\"Enter the number of elements: \"))\n",
    "inputlist = []\n",
    "\n",
    "\n",
    "for i in range(0,numofelements):\n",
    "    inputelement = input(\"Enter values out of which you want to eliminate []:\")\n",
    "    inputlist.append(inputelement)\n",
    "\n",
    "\n",
    "Newlist = []\n",
    "for j in inputlist:\n",
    "    if j != '[]':\n",
    "        Newlist.append(j)\n",
    "\n",
    "\n",
    "print(\"The resultant list after [] elimination is: \", Newlist)"
   ]
  },
  {
   "cell_type": "code",
   "execution_count": null,
   "id": "dc633818",
   "metadata": {},
   "outputs": [],
   "source": [
    "##Write a Python program to Cloning or Copying a list?\n",
    "numofelements = int(input(\"Enter the number of elements: \"))\n",
    "inputlist = []\n",
    "\n",
    "\n",
    "for i in range(0,numofelements):\n",
    "    inputelement = input(\"Enter values out of which you want to another list:\")\n",
    "    inputlist.append(inputelement)\n",
    "\n",
    "\n",
    "Newlist = []\n",
    "for j in inputlist:\n",
    "    Newlist.append(j)\n",
    "\n",
    "\n",
    "print(\"The new cloned list is: \", Newlist)"
   ]
  },
  {
   "cell_type": "code",
   "execution_count": null,
   "id": "b2563b3f",
   "metadata": {},
   "outputs": [],
   "source": [
    "##Write a Python program to Count occurrences of an element in a list?\n",
    "numofelements = int(input(\"Enter the number of elements: \"))\n",
    "inputlist = []\n",
    "\n",
    "\n",
    "for i in range(0,numofelements):\n",
    "    inputlist.append(input(\"Enter values:\"))\n",
    "\n",
    "\n",
    "countelement = input(\"Enter element you want to count: \")\n",
    "\n",
    "\n",
    "print(\"The number of occurances of\", countelement, \"is: \", inputlist.count(countelement))"
   ]
  }
 ],
 "metadata": {
  "kernelspec": {
   "display_name": "Python 3 (ipykernel)",
   "language": "python",
   "name": "python3"
  },
  "language_info": {
   "codemirror_mode": {
    "name": "ipython",
    "version": 3
   },
   "file_extension": ".py",
   "mimetype": "text/x-python",
   "name": "python",
   "nbconvert_exporter": "python",
   "pygments_lexer": "ipython3",
   "version": "3.9.13"
  }
 },
 "nbformat": 4,
 "nbformat_minor": 5
}
