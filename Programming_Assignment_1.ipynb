{
 "cells": [
  {
   "cell_type": "code",
   "execution_count": null,
   "id": "e7950803",
   "metadata": {},
   "outputs": [],
   "source": [
    "##Write a Python program to print \"Hello Python\"?\n",
    "print(\"Hello Python\")"
   ]
  },
  {
   "cell_type": "code",
   "execution_count": null,
   "id": "295ecb04",
   "metadata": {},
   "outputs": [],
   "source": [
    "##Write a Python program to do arithmetical operations addition and division.?\n",
    "a = int(input(\"Enter value 1 or numerator for addition or divison respectively: \"))\n",
    "b = int(input(\"Enter value 2 or non-zero denominator for addition or divison respectively: \"))\n",
    "print(\"The result of addition is: \", a + b)\n",
    "print(\"The result of divison is: \", a / b)"
   ]
  },
  {
   "cell_type": "code",
   "execution_count": null,
   "id": "967f7851",
   "metadata": {},
   "outputs": [],
   "source": [
    "##Write a Python program to find the area of a triangle?\n",
    "b = int(input(\"Enter the base length of the triangle: \"))\n",
    "h = int(input(\"Enter the height length of the triangle: \"))\n",
    "print(\"The area of the triangle is: \" , 1 / 2 * b * h, \" units\")"
   ]
  },
  {
   "cell_type": "code",
   "execution_count": null,
   "id": "4c99bdde",
   "metadata": {},
   "outputs": [],
   "source": [
    "##Write a Python program to swap two variables?\n",
    "var1 = int(input(\"Enter variable1: \"))\n",
    "var2 = int(input(\"Enter variable2: \"))\n",
    "var3 = var2\n",
    "var2 = var1\n",
    "var1 = var3\n",
    "print(\"The value of variable1: \", var1)\n",
    "print(\"The value of variable2: \", var2)"
   ]
  },
  {
   "cell_type": "code",
   "execution_count": null,
   "id": "2e48ff07",
   "metadata": {},
   "outputs": [],
   "source": [
    "##Write a Python program to generate a random number?\n",
    "import random\n",
    "print(\"A random integer is: \", random.randint(0,100000000))"
   ]
  }
 ],
 "metadata": {
  "kernelspec": {
   "display_name": "Python 3 (ipykernel)",
   "language": "python",
   "name": "python3"
  },
  "language_info": {
   "codemirror_mode": {
    "name": "ipython",
    "version": 3
   },
   "file_extension": ".py",
   "mimetype": "text/x-python",
   "name": "python",
   "nbconvert_exporter": "python",
   "pygments_lexer": "ipython3",
   "version": "3.9.13"
  }
 },
 "nbformat": 4,
 "nbformat_minor": 5
}
