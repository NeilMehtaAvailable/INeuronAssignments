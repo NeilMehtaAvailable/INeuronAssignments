{
 "cells": [
  {
   "cell_type": "code",
   "execution_count": null,
   "id": "96d69ecb",
   "metadata": {},
   "outputs": [],
   "source": [
    "#Question1. Write a function that stutters a word as if someone is struggling to read it. The first two letters are repeated twice with an ellipsis ... and space after each, and then the word is pronounced with a question mark ?.\n",
    "#Examples\n",
    "#stutter(\"incredible\") ➞ \"in... in... incredible?\"\n",
    "#\n",
    "#stutter(\"enthusiastic\") ➞ \"en... en... enthusiastic?\"\n",
    "#\n",
    "#stutter(\"outstanding\") ➞ \"ou... ou... outstanding?\"\n",
    "#\n",
    "#Hint :- Assume all input is in lower case and at least two characters long.\n",
    "def stutter(inputstring):\n",
    "    if len(inputstring) > 2:\n",
    "        firstpartstrint = inputstring[:2]\n",
    "        secondpartstring = \"... \"\n",
    "        thirdpartstring = inputstring[:2]\n",
    "        fourthpartstring = \"... \"\n",
    "        fifthpartstring = inputstring\n",
    "        sixthpartstring = \"?\"\n",
    "        return print(firstpartstrint + secondpartstring + thirdpartstring + fourthpartstring + fifthpartstring + sixthpartstring)\n",
    "\n",
    "\n",
    "    else:\n",
    "        return print(\"The word is too short. Increase the length\")\n",
    "\n",
    "\n",
    "inputword = input(\"Enter a word that you want to see in a stuturred way: \")\n",
    "stutter(inputword)"
   ]
  },
  {
   "cell_type": "code",
   "execution_count": null,
   "id": "a2d9bb57",
   "metadata": {},
   "outputs": [],
   "source": [
    "#Question 2.Create a function that takes an angle in radians and returns the corresponding angle in degrees rounded to one decimal place.\n",
    "#Examples\n",
    "#radians_to_degrees(1) ➞ 57.3\n",
    "#\n",
    "#radians_to_degrees(20) ➞ 1145.9\n",
    "#\n",
    "#radians_to_degrees(50) ➞ 2864.8\n",
    "#\n",
    "#\n",
    "def radians2degrees(radianinput):\n",
    "    return print(round(float(radianinput * 57.2958), 1))\n",
    "\n",
    "\n",
    "inputradian = float(input(\"Enter the radian value: \"))\n",
    "radians2degrees(inputradian)"
   ]
  },
  {
   "cell_type": "code",
   "execution_count": null,
   "id": "d0669e76",
   "metadata": {},
   "outputs": [],
   "source": [
    "#Question 3. In this challenge, establish if a given integer num is a Curzon number. If 1 plus 2 elevated to num is exactly divisible by 1 plus 2 multiplied by num, then num is a Curzon number.\n",
    "#Given a non-negative integer num, implement a function that returns True if num is a Curzon number, or False otherwise.\n",
    "#Examples\n",
    "#is_curzon(5) ➞ True\n",
    "# 2 ** 5 + 1 = 33\n",
    "# 2 * 5 + 1 = 11\n",
    "# 33 is a multiple of 11\n",
    "#\n",
    "#is_curzon(10) ➞ False\n",
    "# 2 ** 10 + 1 = 1025\n",
    "# 2 * 10 + 1 = 21\n",
    "# 1025 is not a multiple of 21\n",
    "#\n",
    "#is_curzon(14) ➞ True\n",
    "# 2 ** 14 + 1 = 16385\n",
    "# 2 * 14 + 1 = 29\n",
    "# 16385 is a multiple of 29\n",
    "def curzonchecker(n):\n",
    "    return print(((2 ** n) + 1) % ((2*n) + 1) == 0)\n",
    "\n",
    "\n",
    "testernum = int(input(\"Enter the number you want to check  for curzen test: \"))\n",
    "curzonchecker(testernum)"
   ]
  },
  {
   "cell_type": "code",
   "execution_count": null,
   "id": "e995aeb1",
   "metadata": {},
   "outputs": [],
   "source": [
    "#Question 4.Given the side length x find the area of a hexagon.\n",
    "#Examples\n",
    "#area_of_hexagon(1) ➞ 2.6\n",
    "#\n",
    "#area_of_hexagon(2) ➞ 10.4\n",
    "#\n",
    "#area_of_hexagon(3) ➞ 23.4\n",
    "import math\n",
    "\n",
    "\n",
    "def areahex(sidelen):\n",
    "    return print(\"Area of given length hexagon is: \", round(float((3 * math.sqrt(3) / 2 ) * sidelen ** 2), 1))\n",
    "\n",
    "\n",
    "inputlen = float(input(\"Enter the side length to calculate hexagon area: \"))\n",
    "areahex(inputlen)"
   ]
  },
  {
   "cell_type": "code",
   "execution_count": null,
   "id": "9fc2255f",
   "metadata": {},
   "outputs": [],
   "source": [
    "#Question 5. Create a function that returns a base-2 (binary) representation of a base-10 (decimal) string number. To convert is simple: ((2) means base-2 and (10) means base-10) 010101001(2) = 1 + 8 + 32 + 128.\n",
    "#Going from right to left, the value of the most right bit is 1, now from that every bit to the left will be x2 the value, value of an 8 bit binary numbers are (256, 128, 64, 32, 16, 8, 4, 2, 1).\n",
    "#Examples\n",
    "#binary(1) ➞ \"1\"\n",
    "# 1*1 = 1\n",
    "#\n",
    "#binary(5) ➞ \"101\"\n",
    "# 1*1 + 1*4 = 5\n",
    "#\n",
    "#binary(10) ➞ \"1010\"\n",
    "# 1*2 + 1*8 = 10\n",
    "def decimal2binary(inputdecimal):\n",
    "    if inputdecimal >= 1:\n",
    "        decimal2binary(inputdecimal // 2)\n",
    "    return print(inputdecimal % 2, end = \"\")\n",
    "\n",
    "\n",
    "inputvalue = int(input(\"Enter decimal value: \"))\n",
    "decimal2binary(inputvalue)"
   ]
  }
 ],
 "metadata": {
  "kernelspec": {
   "display_name": "Python 3 (ipykernel)",
   "language": "python",
   "name": "python3"
  },
  "language_info": {
   "codemirror_mode": {
    "name": "ipython",
    "version": 3
   },
   "file_extension": ".py",
   "mimetype": "text/x-python",
   "name": "python",
   "nbconvert_exporter": "python",
   "pygments_lexer": "ipython3",
   "version": "3.9.13"
  }
 },
 "nbformat": 4,
 "nbformat_minor": 5
}
