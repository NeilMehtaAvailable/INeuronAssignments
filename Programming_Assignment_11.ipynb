{
 "cells": [
  {
   "cell_type": "code",
   "execution_count": null,
   "id": "27c39d51",
   "metadata": {},
   "outputs": [],
   "source": [
    "##Write a Python program to find words which are greater than given length k?\n",
    "inputstring = input(\"Enter a sentence in which you want to find long words: \")\n",
    "inputnum = int(input(\"Enter the length of word above which you want to display words: \"))\n",
    "\n",
    "\n",
    "inputlist = inputstring.lower().split()\n",
    "inputset = set(inputlist)\n",
    "NewList = []\n",
    "\n",
    "\n",
    "for i in inputset:\n",
    "    x = len(i)\n",
    "    if x > inputnum:\n",
    "        NewList.append(i)\n",
    "\n",
    "\n",
    "print(\"The following words have a length above\", inputnum, \":\", NewList)"
   ]
  },
  {
   "cell_type": "code",
   "execution_count": null,
   "id": "25b75b67",
   "metadata": {},
   "outputs": [],
   "source": [
    "##Write a Python program for removing i-th character from a string?\n",
    "inputstring = input(\"Enter a sentence: \")\n",
    "inputnum = int(input(\"Enter the index number which you want to eliminate: \"))\n",
    "print(\"The result is: \", inputstring[:inputnum] + inputstring[inputnum+1:])"
   ]
  },
  {
   "cell_type": "code",
   "execution_count": null,
   "id": "03231f65",
   "metadata": {},
   "outputs": [],
   "source": [
    "##Write a Python program to split and join a string?\n",
    "inputstring = input(\"Enter a sentence: \")\n",
    "splitstring = inputstring.split()\n",
    "joinstring = ''.join(splitstring)\n",
    "print(\"The split string is: \", splitstring)\n",
    "print(\"The join string is: \", joinstring)"
   ]
  },
  {
   "cell_type": "code",
   "execution_count": null,
   "id": "4d098c56",
   "metadata": {},
   "outputs": [],
   "source": [
    "##Write a Python to check if a given string is binary string or not?\n",
    "inputstring = input(\"Enter a Binary test string: \")\n",
    "j = 0\n",
    "try:\n",
    "    for i in inputstring:\n",
    "        if int(i) == 0 or int(i) == 1:\n",
    "            j = j + 1\n",
    "        else:\n",
    "            print(\"The string had non-binary numeric character, so it is not a binary string\")\n",
    "            break\n",
    "except ValueError:\n",
    "    print(\"The string had a non-numeric character, so it is not a binary string\")\n",
    "\n",
    "\n",
    "if j == len(inputstring):\n",
    "    print(\"It is a binary  string\")\n",
    "else:\n",
    "    print(\"It is not a binary  string\")"
   ]
  },
  {
   "cell_type": "code",
   "execution_count": null,
   "id": "822e46d6",
   "metadata": {},
   "outputs": [],
   "source": [
    "##Write a Python program to find uncommon words from two Strings?\n",
    "inputstring1 = input(\"Enter the first sentence: \")\n",
    "inputstring2 = input(\"Enter the second sentence: \")\n",
    "\n",
    "\n",
    "inputstring1list = inputstring1.lower().split()\n",
    "inputstring2list = inputstring2.lower().split()\n",
    "NewList = []\n",
    "for i in inputstring1list:\n",
    "    if i in inputstring2list:\n",
    "        NewList.append(i)\n",
    "\n",
    "\n",
    "print(\"The following are the common words from 2 sentences: \", NewList)"
   ]
  },
  {
   "cell_type": "code",
   "execution_count": null,
   "id": "41a9a9ea",
   "metadata": {},
   "outputs": [],
   "source": [
    "##Write a Python to find all duplicate characters in string?\n",
    "inputstring = input(\"Enter the a sentence: \")\n",
    "chardict = {}\n",
    "\n",
    "\n",
    "for char in inputstring:\n",
    "    if char not in chardict:\n",
    "        chardict[char] = 1\n",
    "    else:\n",
    "        chardict[char] = chardict[char] + 1\n",
    "\n",
    "\n",
    "multicharlist = []\n",
    "for charac, counter in chardict.items():\n",
    "    if counter > 1:\n",
    "        multicharlist.append(charac)\n",
    "\n",
    "\n",
    "print(\"The duplicate characters in the string are: \", multicharlist)"
   ]
  },
  {
   "cell_type": "code",
   "execution_count": null,
   "id": "1853d710",
   "metadata": {},
   "outputs": [],
   "source": [
    "##Write a Python Program to check if a string contains any special character?\n",
    "stringseries = input(\"Enter a sentence where you want to check punctuation symbols: \")\n",
    "checkingsymbols = \"\"\"' ' ! ( ) - [ ] { } ; : ' \" \\ , < > . / ? @ # $ % ^ & * _ ~ ' '\"\"\"\n",
    "checkingsymbolslist = checkingsymbols.split()\n",
    "x = 0\n",
    "for character in stringseries:\n",
    "    if character in checkingsymbols:\n",
    "        print(\"Yes, there is/are special character(s) in the string\")\n",
    "        x= 1\n",
    "        break\n",
    "\n",
    "if x != 1:\n",
    "    print(\"There are no special characters in the string\")"
   ]
  }
 ],
 "metadata": {
  "kernelspec": {
   "display_name": "Python 3 (ipykernel)",
   "language": "python",
   "name": "python3"
  },
  "language_info": {
   "codemirror_mode": {
    "name": "ipython",
    "version": 3
   },
   "file_extension": ".py",
   "mimetype": "text/x-python",
   "name": "python",
   "nbconvert_exporter": "python",
   "pygments_lexer": "ipython3",
   "version": "3.9.13"
  }
 },
 "nbformat": 4,
 "nbformat_minor": 5
}
